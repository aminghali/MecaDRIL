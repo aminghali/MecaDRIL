{
 "cells": [
  {
   "cell_type": "markdown",
   "metadata": {
    "heading_collapsed": true
   },
   "source": [
    "## Le système de Ptolémée"
   ]
  },
  {
   "cell_type": "markdown",
   "metadata": {
    "hidden": true
   },
   "source": [
    "Au II$^{me}$ siècle, l'astronome grec Ptolémée proposa un model géocentrique qui survivra jusqu'au XVII$^{me}$ siècle.\n",
    "\n",
    "Dans le système de Ptolémée, la Terre se trouve au centre de l'univers et les autres corps célestes se déplacent le long d'une orbite circulaire de rayon $r$ (épicycle), dont le centre tourne autour de la Terre le long d'une orbite circulaire de rayon $R$ (déférent). \n",
    "\n",
    "On décrit le mouvement le long de l'épicycle et du déférent à l'aide des angles $\\theta$ et $\\phi$ tels que $\\dot{\\theta}=\\omega$ et $\\dot{\\phi}=\\Omega$, avec $\\omega$ et $\\Omega$, vitesses angulaires constantes et positives."
   ]
  },
  {
   "cell_type": "markdown",
   "metadata": {
    "hidden": true
   },
   "source": [
    "Quelle est l'allure de la trajectoire en fonction des paramètre $r$, $R$, $\\omega$ et $\\Omega$?"
   ]
  },
  {
   "cell_type": "markdown",
   "metadata": {},
   "source": [
    "## Un petit dessin permet de visualiser la situation et les paramètres"
   ]
  },
  {
   "cell_type": "code",
   "execution_count": null,
   "metadata": {
    "ExecuteTime": {
     "end_time": "2019-07-12T16:59:04.686706Z",
     "start_time": "2019-07-12T16:59:04.684032Z"
    }
   },
   "outputs": [],
   "source": [
    "from IPython.display import Image\n",
    "Image(\"Ptolemee.png\")"
   ]
  },
  {
   "cell_type": "markdown",
   "metadata": {},
   "source": [
    "## On trace la trajectoire de manière dynamique"
   ]
  },
  {
   "cell_type": "code",
   "execution_count": null,
   "metadata": {
    "ExecuteTime": {
     "end_time": "2019-07-12T16:59:05.163740Z",
     "start_time": "2019-07-12T16:59:04.887511Z"
    }
   },
   "outputs": [],
   "source": [
    "import numpy as np\n",
    "%matplotlib widget\n",
    "import matplotlib.pyplot as plt\n",
    "from matplotlib.animation import FuncAnimation \n",
    "from matplotlib.widgets import Slider"
   ]
  },
  {
   "cell_type": "code",
   "execution_count": null,
   "metadata": {
    "ExecuteTime": {
     "end_time": "2019-07-12T16:59:05.168460Z",
     "start_time": "2019-07-12T16:59:05.165465Z"
    }
   },
   "outputs": [],
   "source": [
    "FPS = 40\n",
    "T = round(2*np.pi/0.2*16*FPS)\n",
    "\n",
    "# valeurs initiales\n",
    "w = 10 # omega\n",
    "W = 1  # Omega\n",
    "r = 2  # épicycle\n",
    "R = 10 # déférent"
   ]
  },
  {
   "cell_type": "code",
   "execution_count": null,
   "metadata": {
    "ExecuteTime": {
     "end_time": "2019-07-12T16:59:48.150930Z",
     "start_time": "2019-07-12T16:59:48.019483Z"
    }
   },
   "outputs": [],
   "source": [
    "# main figure\n",
    "fig = plt.figure(figsize=(6,7))\n",
    "ax = fig.add_subplot(111, aspect='equal', autoscale_on=False, position=[.15,.15,.75,.75] )\n",
    "ax.grid()\n",
    "ax.set_xlim(-(r+R)*1.1, (r+R)*1.1)\n",
    "ax.set_ylim(-(r+R)*1.1, (r+R)*1.1)\n",
    "    \n",
    "# orbit, epicycle and deferent \n",
    "x_e, y_e = [], []  \n",
    "x_d, y_d = [], []   \n",
    "orb_x, orb_y = [], [] \n",
    "\n",
    "# trajectories of epicycle and deferent \n",
    "traj_d, = ax.plot(x_d,y_d, 'b',lw=2)\n",
    "traj_e, = ax.plot(x_e,y_e,'g',lw=1)\n",
    "\n",
    "# centers of epicycle and deferent \n",
    "d, = ax.plot([], [], 'xb')\n",
    "e, = ax.plot([], [], 'ok')\n",
    "\n",
    "# orbits of epicycle and deferent \n",
    "orb, = ax.plot([], [], '.r',ms=1)\n",
    "\n",
    "# time\n",
    "time_text = ax.text(0.02, 0.95, '', transform=ax.transAxes)\n",
    "\n",
    "\n",
    "def opt_mem():\n",
    "    \"\"\"\n",
    "    finds the optimal memory for the for the trajectories.\n",
    "    \"\"\"\n",
    "    T1 = 1./(abs(w+W)-.001)\n",
    "    T2 = 1./(abs(w-W)+.001)\n",
    "    M = int(4*2*np.pi/min(T1, T2))\n",
    "    \n",
    "    if M==T:\n",
    "        M=int(T/10.)\n",
    "    return M\n",
    "\n",
    "\n",
    "def positions(t):\n",
    "    \"\"\"\n",
    "    finds the positions of sun and planet at time t\n",
    "    \"\"\"\n",
    "    X = R*np.cos(W*t) # deferent\n",
    "    Y = R*np.sin(W*t) # deferent\n",
    "    x = X + r*np.cos(w*t) # epicycle\n",
    "    y = Y + r*np.sin(w*t) # epicycle\n",
    "    return X,Y,x,y\n",
    "\n",
    "def orbit(X,Y,r):\n",
    "    \"\"\"\n",
    "    computes the orbit of planet around the sun\n",
    "    \"\"\"\n",
    "    phi = np.linspace(0, 2*np.pi, 360*2)\n",
    "    orb_x = X + r*np.cos(phi)\n",
    "    orb_y = Y + r*np.sin(phi)\n",
    "    return orb_x,orb_y\n",
    "\n",
    "\n",
    "def init():\n",
    "    \"\"\"\n",
    "    initialization function of the animation\n",
    "    \"\"\"\n",
    "    ax.plot([0], ms=7, c='k',marker='o')\n",
    "    return d,e,traj_d,traj_e\n",
    "\n",
    "def update(t):\n",
    "    global r, R, w, W, M\n",
    "    global x_e, y_e, x_d, y_d\n",
    "    \n",
    "    # this is hack to prevent the undesirable jumps\n",
    "    if (w != s_w.val)+(W != s_W.val)+(r != s_r.val)+(R != s_R.val):\n",
    "        w = s_w.val\n",
    "        W = s_W.val\n",
    "        r = s_r.val\n",
    "        R = s_R.val\n",
    "        M = opt_mem()\n",
    "        ax.set_xlim(-(r+R)*1.1, (r+R)*1.1)\n",
    "        ax.set_ylim(-(r+R)*1.1, (r+R)*1.1)\n",
    "        return \n",
    "    \n",
    "    # only keep the recent M-1 positions \n",
    "    y_d = y_d[-M+1:]\n",
    "    x_d = x_d[-M+1:]\n",
    "    x_e = x_e[-M+1:]\n",
    "    y_e = y_e[-M+1:]\n",
    "\n",
    "    # append the current position\n",
    "    X,Y,x,y = positions(t)\n",
    "    x_e.append(x)\n",
    "    y_e.append(y)\n",
    "    x_d.append(X)\n",
    "    y_d.append(Y)\n",
    "\n",
    "    # trajectories and orbit data update\n",
    "    traj_d.set_data(x_d, y_d)\n",
    "    traj_e.set_data(x_e, y_e)\n",
    "    orb.set_data(orbit(X,Y,r))\n",
    "\n",
    "    # positions update\n",
    "    d.set_data(X, Y)\n",
    "    e.set_data(x, y)\n",
    "    time_text.set_text('time = %.1f' % t)\n",
    "\n",
    "    return traj_d,traj_e,d,e, orb\n",
    "\n",
    "\n",
    "# sliders axis\n",
    "ax_w = plt.axes([0.05, 0.05, 0.35, 0.03],frameon=False)\n",
    "ax_W = plt.axes([0.05, 0.1, 0.35, 0.03],frameon=False)\n",
    "ax_r = plt.axes([0.55, 0.05, 0.35, 0.03],frameon=False)\n",
    "ax_R = plt.axes([0.55, 0.1, 0.35, 0.03],frameon=False)\n",
    "\n",
    "# just for a better appearance \n",
    "for AX in (ax_w, ax_W, ax_r, ax_R):\n",
    "    AX.hlines(0,-20,20, color='gray')\n",
    "    AX.grid(True, axis='x')\n",
    "\n",
    "# slidres\n",
    "s_w = Slider(ax_w, r'$\\omega$', -10, 10, valinit=w, valstep=0.2)\n",
    "s_W = Slider(ax_W, r'$\\Omega$', -10, 10, valinit=W, valstep=0.2)\n",
    "s_r = Slider(ax_r, r'r', 0, 5, valinit=r, valstep=0.2)\n",
    "s_R = Slider(ax_R, r'R', 6, 20, valinit=R, valstep=0.2)\n",
    "\n",
    "s_w.on_changed(update)\n",
    "s_R.on_changed(update)\n",
    "s_r.on_changed(update)\n",
    "s_W.on_changed(update)\n",
    "\n",
    "def Ptolemee():\n",
    "    return FuncAnimation(fig, update, frames=np.linspace(0, T, T*FPS),\n",
    "                        init_func=init, blit=True, interval=1000/FPS)\n",
    "Ptolemee()"
   ]
  },
  {
   "cell_type": "markdown",
   "metadata": {},
   "source": [
    "On peut essayer différentes valeurs pour $\\Omega$ et $\\omega$. \n",
    "Le dessin s'efface après un temps: laisser la figure se nettoyer."
   ]
  },
  {
   "cell_type": "code",
   "execution_count": null,
   "metadata": {},
   "outputs": [],
   "source": []
  }
 ],
 "metadata": {
  "hide_input": false,
  "kernelspec": {
   "display_name": "Python 3",
   "language": "python",
   "name": "python3"
  },
  "language_info": {
   "codemirror_mode": {
    "name": "ipython",
    "version": 3
   },
   "file_extension": ".py",
   "mimetype": "text/x-python",
   "name": "python",
   "nbconvert_exporter": "python",
   "pygments_lexer": "ipython3",
   "version": "3.7.3"
  },
  "toc": {
   "base_numbering": 1,
   "nav_menu": {},
   "number_sections": true,
   "sideBar": true,
   "skip_h1_title": true,
   "title_cell": "Table of Contents",
   "title_sidebar": "Contents",
   "toc_cell": false,
   "toc_position": {},
   "toc_section_display": true,
   "toc_window_display": false
  }
 },
 "nbformat": 4,
 "nbformat_minor": 2
}
