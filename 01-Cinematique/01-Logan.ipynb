{
 "cells": [
  {
   "cell_type": "code",
   "execution_count": null,
   "metadata": {},
   "outputs": [],
   "source": [
    "from IPython.display import Image\n",
    "\n",
    "import matplotlib.pyplot as plt\n",
    "import numpy as np\n",
    "\n",
    "from ipywidgets import interact, interactive, fixed, interact_manual\n",
    "import ipywidgets as widgets\n",
    "from IPython.display import HTML\n",
    "\n",
    "from bokeh.io import push_notebook, show, output_notebook\n",
    "from bokeh.plotting import figure\n",
    "from bokeh.models import Arrow, OpenHead, NormalHead, VeeHead, BoxAnnotation, Legend\n",
    "from bokeh.layouts import gridplot\n",
    "output_notebook()"
   ]
  },
  {
   "cell_type": "markdown",
   "metadata": {},
   "source": [
    "# L'agent Logan : exercice de cinématique\n",
    "\n",
    "Lancé à la poursuite d'un criminel, l'agent Logan du FBI doit traverser une rivière d'une largeur de 1600 m qui coule à 0.80 m$\\cdot$s$^{-1}$ en un minimum de temps et se rendre directement en face de son point de départ. Sachant qu'il peut ramer à 1.50 m$\\cdot$s$^{-1}$ et courir à 3.00 m$\\cdot$s$^{-1}$, décrivez la route qu'il devrait suivre (en bateau et à pied le long de la rive) pour traverser ce cours d'eau le plus rapidement possible.\n",
    "Déterminez le temps minimal requis pour cette traversée.\n"
   ]
  },
  {
   "cell_type": "markdown",
   "metadata": {},
   "source": [
    "## On commence par un schéma..."
   ]
  },
  {
   "cell_type": "code",
   "execution_count": null,
   "metadata": {},
   "outputs": [],
   "source": [
    "Image(\"Logan.png\")"
   ]
  },
  {
   "cell_type": "markdown",
   "metadata": {},
   "source": [
    "## On analyse le problème et on affine  la marche à suivre\n",
    "\n",
    "Logan doit aller de A à B le plus vite possible (pas forcément en ligne droite), \n",
    "sa vitesse par rapport à la rivière est $\\vec v'$, la vitesse du courant $\\vec v_c$, donc sa vitesse par rapport à la rive est $\\vec v = \\vec  v' + \\vec v_c$. \n",
    "\n",
    "Il choisit l'angle $\\beta$. Si il ne choisit pas un beta tel que $\\alpha$ vaille 90°, il ne va pas débarquer en B, et devra courir un peu sur la rive. Mais comme il court plus vite qu'il ne rame, cela peut être une bonne idée si il choisit un beta qui va lui permettre de gagner du temps sur la traversée. \n",
    "\n",
    "Le but est de choisir l'angle qui lui donne le meilleur temps. C'est un problème d'optimisation. On exprime le temps total en fonction du paramètre libre ($\\beta$) et on cherche la valeur de $\\beta$ qui donne le minimum."
   ]
  },
  {
   "cell_type": "markdown",
   "metadata": {},
   "source": [
    "# Représentation graphique "
   ]
  },
  {
   "cell_type": "markdown",
   "metadata": {},
   "source": [
    "### Fonctions et paramètres"
   ]
  },
  {
   "cell_type": "code",
   "execution_count": null,
   "metadata": {},
   "outputs": [],
   "source": [
    "# vecteur vitesse du rameur par rapport au courant (v') en fonction de l'angle beta (variable) et \n",
    "# de la norme de la vitesse à la rame (v_ramer)\n",
    "\n",
    "v_ramer_ = lambda beta, v_ramer: [np.linspace(0, 200*np.cos(beta)*v_ramer, 100), \\\n",
    "                                  np.linspace(0, 200*np.sin(beta)*v_ramer, 100)]"
   ]
  },
  {
   "cell_type": "code",
   "execution_count": null,
   "metadata": {},
   "outputs": [],
   "source": [
    "# Définition des paramètres initiaux\n",
    "l = 1600 #largeur de la rivière (m)\n",
    "v_courant = 0.8 # vitesse du courant (m/s)\n",
    "v_ramer = 1.5 # vitesse à la rame (m/s)\n",
    "v_course = 3.0 # vitesse à la course (m/s)\n",
    "point_a = 0 # point de départ (coordonnée x)\n",
    "point_b = 0 # point d'arrivée (coordonnée y)\n",
    "\n",
    "beta = 90 # angle de départ\n",
    "\n",
    "omega= np.pi*20/180 # Cet angle sert à dessiner les têtes des flèches"
   ]
  },
  {
   "cell_type": "markdown",
   "metadata": {},
   "source": [
    "### Calcul analytique 1"
   ]
  },
  {
   "cell_type": "markdown",
   "metadata": {},
   "source": [
    "Le temps de traversée à la rame peut être calculé dans le référentiel de l'eau de la rivière.\n",
    "\n",
    "$$t_r=\\frac{l}{v_\\text{ramer} \\sin \\beta}$$\n",
    "\n",
    "Le temps de course nécessite de calculer d'abord la distance à parcourir sur la rive\n",
    "\n",
    "vitesse du courant: $\\vec v_c$\n",
    "\n",
    "vitesse par rapport au courant: $\\vec v'$ avec $|\\vec v'|=v'$ connu ( appelé $v_{ramer}$ dans le programme)\n",
    "\n",
    "vitesse par rapport à la rive: $\\vec v=\\vec v'+\\vec v_c$\n",
    "\n",
    "Composantes des vitesses:\n",
    "\n",
    "\\begin{align*}\n",
    "\\vec v_c&=\\begin{pmatrix}v_c\\\\0 \\end{pmatrix} & \\vec v&=\\begin{pmatrix}v_x=v\\cos\\alpha\\\\v_y=v\\sin\\alpha \\end{pmatrix} & \\vec v'&=\\begin{pmatrix}v'\\cos\\beta\\\\v'\\sin\\beta \\end{pmatrix}\n",
    "\\end{align*}\n",
    "Il vient:\n",
    "\n",
    "$$\\vec v=\\begin{pmatrix}v_c+v'\\cos\\beta\\\\v'\\sin\\beta \\end{pmatrix}=\\begin{pmatrix}v\\cos\\alpha\\\\v\\sin\\alpha \\end{pmatrix}$$\n",
    "\n",
    "Ainsi: $$\\tan\\alpha=\\frac{v\\sin\\alpha}{v\\cos\\alpha}=\\frac{v'\\sin\\beta}{v_c+v'\\cos\\beta}=\\frac ld$$\n",
    "\n",
    "Donc:\n",
    "$$\\boxed{d=l\\frac{v_c+v'\\cos\\beta}{v'\\sin\\beta}}$$\n",
    "\n",
    "Le temps de course sur la rive est donc donné par \n",
    "\n",
    "$$t_c=l\\frac{v_c+v'\\cos\\beta}{v'\\sin\\beta}\\frac{1}{v_{course}}=l\\frac{v_\\text{courant}+v_\\text{ramer}\\cos\\beta}{v_\\text{ramer}\\sin\\beta}\\frac{1}{v_\\text{course}} $$\n",
    "\n",
    "Le temps total est $t_c+t_r$"
   ]
  },
  {
   "cell_type": "markdown",
   "metadata": {},
   "source": [
    "### Définition des fonctions"
   ]
  },
  {
   "cell_type": "code",
   "execution_count": null,
   "metadata": {},
   "outputs": [],
   "source": [
    "\n",
    "# vitesse (vectorielle) initiale en x et y \n",
    "v_init_x = v_ramer*np.cos(beta)\n",
    "v_init_y = v_ramer*np.sin(beta)\n",
    "# temps de traversée à la rame \n",
    "t_r = l/(v_ramer*np.sin(beta))\n",
    "\n",
    "\n",
    "# temps de course\n",
    "t_c = l*(v_courant + v_ramer*np.cos(beta))/(v_ramer*np.sin(beta) * v_course)\n",
    "\n",
    "# temps total \n",
    "t = t_c + t_r\n",
    "\n",
    "#Elements nécessaires pour fair ele dessin\n",
    "\n",
    "# distance de course (donne le point d'arrivée)\n",
    "d = (v_courant + v_ramer*np.cos(beta))*t_r\n",
    "\n",
    "# vecteur vitesse par raport au courant\n",
    "v_ramer_x, v_ramer_y = v_ramer_(beta, v_ramer)\n",
    "\n",
    "# vecteur vitesse courant\n",
    "v_courant_x = v_ramer_x[-1] + np.linspace(0, 300*v_ramer, 100)\n",
    "v_courant_y = [v_ramer_y[-1]]*100"
   ]
  },
  {
   "cell_type": "markdown",
   "metadata": {},
   "source": [
    "### Définition de la Figure"
   ]
  },
  {
   "cell_type": "code",
   "execution_count": null,
   "metadata": {},
   "outputs": [],
   "source": [
    "# figure\n",
    "p = figure(title=\"Logan\", plot_height=500, plot_width=980, y_range=(-100,1800), x_range=(-2000,3000), \n",
    "           background_fill_color='#ffffff', toolbar_location=\"below\")\n",
    "\n",
    "# rives\n",
    "r_down = p.line(np.linspace(-5000, 5000, 1000), [0]*1000, color=\"#5A2806\", line_width=5)\n",
    "r_down = p.line(np.linspace(-5000, 5000, 1000), [l]*1000, color=\"#5A2806\", line_width=5)\n",
    "\n",
    "# fons de l'image\n",
    "mid_box = BoxAnnotation(bottom=0, top=l, fill_alpha=0.1, fill_color='blue')\n",
    "low_box = BoxAnnotation(bottom=-100, top=0, fill_alpha=0.1, fill_color='green')\n",
    "top_box = BoxAnnotation(bottom=l, top=1800, fill_alpha=0.1, fill_color='green')\n",
    "p.add_layout(mid_box)\n",
    "p.add_layout(low_box)\n",
    "p.add_layout(top_box)\n",
    "\n",
    "# point initial\n",
    "p_ini = p.circle([0], [0], size=10, fill_color='#e32020', line_color='#e32020',)\n",
    "# point final\n",
    "p_fi = p.circle([0], [l], size=10, fill_color='#e32020', line_color='#e32020')\n",
    "# point d'arrivé\n",
    "B = p.circle([d], [l], size=10, fill_color='#0A0451', line_color='#0A0451')\n",
    "\n",
    "\n",
    "# vecteur vitesse par raport au courant\n",
    "v_r = p.line(v_ramer_x, v_ramer_y, color='#D94D31', line_width=1.5)\n",
    "a_v_r_up = p.line(v_ramer_x[-1] + np.linspace(0, -100*np.cos(beta + omega), 100), \\\n",
    "                 v_ramer_y[-1] + np.linspace(0, -100*np.sin(beta + omega), 100), \\\n",
    "                  color='#D94D31', line_width=1.5)\n",
    "a_v_r_down = p.line(v_ramer_x[-1]  + np.linspace(0, -100*np.cos(beta - omega), 100), \\\n",
    "                 v_ramer_y[-1] + np.linspace(0, -100*np.sin(beta - omega), 100), \\\n",
    "                    color='#D94D31', line_width=1.5)\n",
    "\n",
    "# vecteur vitesse courant\n",
    "v_cou = p.line(v_courant_x, v_courant_y, color='#130f78', line_width=1.5)\n",
    "a_v_cou_up = p.line(v_courant_x[-1] + np.linspace(0, +100*np.cos(np.pi + np.pi*20/180), 100), \\\n",
    "                 v_courant_y[-1] + np.linspace(0, +100*np.sin(np.pi + np.pi*20/180), 100), \\\n",
    "                  color='#130f78', line_width=1.5)\n",
    "a_v_cou_down = p.line(v_courant_x[-1] + np.linspace(0, 100*np.cos(np.pi - np.pi*20/180), 100), \\\n",
    "                 v_courant_y[-1] + np.linspace(0, 100*np.sin(np.pi - np.pi*20/180), 100), \\\n",
    "                    color='#130f78', line_width=1.5)\n",
    "\n",
    "\n",
    "# vecteur vitesse par raport à la rive\n",
    "v_totale = p.line(np.linspace(0 ,v_courant_x[-1], 100), np.linspace(0, v_courant_y[-1], 100), color='#40ba2d',\\\n",
    "                   line_width=1.5)\n",
    "alpha = np.arctan2(v_courant_y[-1],v_courant_x[-1])\n",
    "a_v_totale_up = p.line( v_courant_x[-1] - np.linspace(0, 100*np.cos(alpha + omega), 100), \\\n",
    "                 v_courant_y[-1] + np.linspace(0, +100*np.sin(alpha + omega), 100), \\\n",
    "                  color='#40ba2d', line_width=1.5)\n",
    "a_v_totale_down = p.line( v_courant_x[-1] - np.linspace(0, 100*np.cos(alpha - omega), 100), \\\n",
    "                 v_courant_y[-1] + np.linspace(0, 100*np.sin(alpha - omega), 100), \\\n",
    "                    color='#40ba2d', line_width=1.5)\n",
    "\n",
    "\n",
    "# trajectoire\n",
    "traj = p.line(np.linspace(0, d*100, 100), np.linspace(0, l, 100),\\\n",
    "              color='#ccce2b', line_width=1.5, alpha=0.5, line_dash='dashed')\n",
    "\n",
    "# légende\n",
    "legend1 = Legend(items=[(\"Vitesse par rapport au courant\", [v_r, a_v_r_up, a_v_r_down]),\n",
    "                      (\"Vitesse du courant\", [v_cou, a_v_cou_up, a_v_cou_down]),\n",
    "                      (\"Vitesse par rapport à la rive\", [v_totale, a_v_totale_up, a_v_totale_down])])\n",
    "legend2 = Legend(items=[('Trajectoire', [traj]), ('Point Initial', [p_ini]), \n",
    "                       ('Point Final', [p_fi]), (\"Point d'Arrivé\", [B])])\n",
    "\n",
    "p.add_layout(legend1, 'below')\n",
    "p.add_layout(legend2, 'below')\n",
    "p.legend.orientation = 'horizontal'\n",
    "\n",
    "\n",
    "p_temps = figure(title=\"Temps\", plot_height=200, plot_width=980, y_range=(-10, 10), x_range=(0,3000), \n",
    "           background_fill_color='#ffffff', toolbar_location=None)\n",
    "\n",
    "p_temps.yaxis.visible = None\n",
    "p_temps.xaxis.axis_label = 'Temps [s]'\n",
    "tr = p_temps.line(np.linspace(0, t_r, 10), [0]*10,color='#6DD3DB', line_width=25, name='Temps ramer')\n",
    "tc = p_temps.line(np.linspace(t_r, t, 10), [0]*10,color='#4a8d5c', line_width=25, name='Temps course')\n",
    "l_temps = Legend(items=[('Temps navigation [s]', [tr]), ('Temps courant [s]', [tc])])\n",
    "p_temps.add_layout(l_temps)\n",
    "p.ygrid.visible = False\n",
    "p_temps.legend.orientation = 'horizontal'"
   ]
  },
  {
   "cell_type": "code",
   "execution_count": null,
   "metadata": {},
   "outputs": [],
   "source": [
    "\n",
    "# mettre à jour \n",
    "def update(beta):\n",
    "    beta = np.pi*beta/180\n",
    "    \n",
    "    # mettre à jour vitesse\n",
    "    v_ramer_x, v_ramer_y = v_ramer_(beta, v_ramer)\n",
    "    v_courant_x = v_ramer_x[-1] + np.linspace(0, 200*v_courant, 100)\n",
    "    v_courant_y = [v_ramer_y[-1]]*100\n",
    "    alpha = np.arctan2(v_courant_y[-1],v_courant_x[-1])\n",
    "\n",
    "    \n",
    "    # mettre à jour temps\n",
    "    t_r = l/(v_ramer*np.sin(beta))\n",
    "    t_c = l*(v_courant + v_ramer*np.cos(beta))/(v_ramer*np.sin(beta) * v_course)\n",
    "    t = abs(t_r) + abs(t_c)\n",
    "\n",
    "    b = (v_courant + v_ramer*np.cos(beta))*t_r\n",
    "    \n",
    "    tr.data_source.data['x'] = np.linspace(0,t_r, 10)\n",
    "    tc.data_source.data['x'] = np.linspace(t_r, t, 10)\n",
    "    \n",
    "    v_r.data_source.data['x'] = v_ramer_x\n",
    "    v_r.data_source.data['y'] = v_ramer_y\n",
    "    a_v_r_up.data_source.data['x'] = v_ramer_x[-1] + np.linspace(0, -100*np.cos(beta + omega), 100)\n",
    "    a_v_r_up.data_source.data['y'] = v_ramer_y[-1] + np.linspace(0, -100*np.sin(beta + omega), 100)\n",
    "    a_v_r_down.data_source.data['x'] = v_ramer_x[-1] + np.linspace(0, -100*np.cos(beta - omega), 100)\n",
    "    a_v_r_down.data_source.data['y'] = v_ramer_y[-1] + np.linspace(0, -100*np.sin(beta - omega), 100)\n",
    "    \n",
    "    v_cou.data_source.data['x'] = v_courant_x\n",
    "    v_cou.data_source.data['y'] = v_courant_y\n",
    "    \n",
    "    a_v_cou_up.data_source.data['x'] = v_courant_x[-1] + np.linspace(0, +100*np.cos(np.pi + np.pi*20/180), 100)\n",
    "    a_v_cou_up.data_source.data['y'] = v_courant_y[-1] + np.linspace(0, +100*np.sin(np.pi + np.pi*20/180), 100)\n",
    "    a_v_cou_down.data_source.data['x'] = v_courant_x[-1] + np.linspace(0, +100*np.cos(np.pi - np.pi*20/180), 100)\n",
    "    a_v_cou_down.data_source.data['y'] = v_courant_y[-1] + np.linspace(0, +100*np.sin(np.pi - np.pi*20/180), 100)\n",
    "    \n",
    "    v_totale.data_source.data['x'] = np.linspace(0, v_courant_x[-1], 100)\n",
    "    v_totale.data_source.data['y'] = np.linspace(0, v_courant_y[-1], 100)\n",
    "    \n",
    "    a_v_totale_up.data_source.data['x'] =  v_courant_x[-1] - np.linspace(0, 100*np.cos(alpha + omega), 100)\n",
    "    a_v_totale_up.data_source.data['y'] = v_courant_y[-1] - np.linspace(0, 100*np.sin(alpha + omega), 100)\n",
    "    a_v_totale_down.data_source.data['x'] = v_courant_x[-1] - np.linspace(0, 100*np.cos(alpha - omega), 100)\n",
    "    a_v_totale_down.data_source.data['y'] = v_courant_y[-1] - np.linspace(0, 100*np.sin(alpha - omega), 100)\n",
    "    \n",
    "    B.data_source.data['x'] = [b]\n",
    "    \n",
    "    traj.data_source.data['x'] = np.linspace(0, b, 100)\n",
    "    \n",
    "    print('Temps de navigation: \\t{:0.1f}s'.format(t_r))\n",
    "    print('Temps de course à pieds: {:0.1f}s'.format(abs(t_c)))\n",
    "    print('Temps total: \\t\\t{:0.1f}s'.format(t))\n",
    "    \n",
    "    push_notebook()\n",
    "   \n",
    "\n"
   ]
  },
  {
   "cell_type": "markdown",
   "metadata": {},
   "source": [
    "### Tracé"
   ]
  },
  {
   "cell_type": "code",
   "execution_count": null,
   "metadata": {},
   "outputs": [],
   "source": [
    "f_plot = gridplot([[p], [p_temps]])\n",
    "show(f_plot, notebook_handle=True)\n",
    "interact(update,\\\n",
    "         beta=widgets.FloatSlider(min=70,max=160,step=1,value=90, description='$Beta$:')); "
   ]
  },
  {
   "cell_type": "markdown",
   "metadata": {},
   "source": [
    "### Calcul analytique 2"
   ]
  },
  {
   "cell_type": "markdown",
   "metadata": {},
   "source": [
    "Le temps total est une fonction de $\\beta$:\n",
    "\n",
    "$$\\boxed{t_{tot}=\\frac l{v'\\sin\\beta}+l\\frac{v_c+v'\\cos\\beta}{v'\\sin\\beta}\\frac1{v_{course}}=l\\left[\\frac{v_{course}+v_c+v'\\cos\\beta}{v_{course}\\cdot v'\\sin\\beta}\\right]}$$\n",
    "\n",
    "On cherche à la minimiser en fonction de $\\beta$:\n",
    "\n",
    "$$\\frac{\\text dt_{tot}}{\\text d\\beta}=l\\cdot\\frac{-v_{course}v'\\sin\\beta\\cdot v'\\sin\\beta-v_{course}v'\\cos\\beta\\left[v_{course}+v_c+v'\\cos\\beta\\right]}{\\left[v_{course}\\cdot v'\\sin\\beta\\right]^2}=f(\\beta)$$\n",
    "\n",
    "et on cherche $f(\\beta)=0$.\n",
    "\n",
    "\\begin{align*}\n",
    "-v'^2v_{course}\\sin^2\\beta-v'v_{course}^2\\cos\\beta\n",
    "-v_cv'v_{course}\\cos\\beta-v_{course}v'^2\\cos^2\\beta&=0\\\\\n",
    "\\end{align*}\n",
    "\n",
    "$$\\boxed{\\cos\\beta=\\frac{-v'}{v_c+v_{course}}}$$\n",
    "A.N.: $\\beta=1.98$ (équivalent à 113.2°,  soit 23.2° vers l'amont). Le temps de course sera alors de 80.5 s et la traversée de 1160 s, soit un temps total de 1241.5 s (20.7 min)."
   ]
  },
  {
   "cell_type": "markdown",
   "metadata": {
    "heading_collapsed": true
   },
   "source": [
    "# Demo: Variation des vitesses "
   ]
  },
  {
   "cell_type": "code",
   "execution_count": null,
   "metadata": {
    "hidden": true
   },
   "outputs": [],
   "source": [
    "# Définition des paramètres initiaux\n",
    "l = 1600 #largeur de la rivière (m)\n",
    "v_courant = 0.8 # vitesse du courant (m/s)\n",
    "v_ramer = 1.5 # vitesse ramer (m/s)\n",
    "v_course = 3.0 # vitesse courir (m/s)\n",
    "\n",
    "beta = np.pi*120/180 # angle de départ\n",
    "omega= np.pi*20/180\n",
    "\n",
    "# vitesse initiale en x et y \n",
    "v_init_x = v_ramer*np.cos(beta)\n",
    "v_init_y = v_ramer*np.sin(beta)\n",
    "\n",
    "# temps de traversée\n",
    "t_r = l/(v_ramer*np.sin(beta))\n",
    "# temps total\n",
    "t = l*(v_course + v_courant + v_ramer*np.cos(beta))/(v_ramer*np.sin(beta) * v_course)\n",
    "# temps courir\n",
    "t_c = t - t_r\n",
    "\n",
    "# point d'arrivé\n",
    "b = (v_courant + v_ramer*np.cos(beta))*t_r"
   ]
  },
  {
   "cell_type": "code",
   "execution_count": null,
   "metadata": {
    "hidden": true
   },
   "outputs": [],
   "source": [
    "def update(beta, v_course, v_ramer, v_courant):\n",
    "    beta = np.pi*beta/180\n",
    "    \n",
    "    # mettre à jour vitesse\n",
    "    v_ramer_x = np.linspace(0, 200*np.cos(beta)*v_ramer, 100)\n",
    "    v_ramer_y = np.linspace(0, 200*np.sin(beta)*v_ramer, 100)\n",
    "    v_courant_x = v_ramer_x[-1] + np.linspace(0, 200*v_courant, 100)\n",
    "    v_courant_y = [v_ramer_y[-1]]*100\n",
    "    \n",
    "    alpha = np.arctan2(v_courant_y[-1],v_courant_x[-1])\n",
    "    \n",
    "    \n",
    "    # mettre à jour temps\n",
    "    t_r = l/(v_ramer*np.sin(beta))\n",
    "    t_c = l*(v_courant + v_ramer*np.cos(beta))/(v_ramer*np.sin(beta) * v_course)\n",
    "    t = abs(t_r) + abs(t_c)\n",
    "    \n",
    "    b = (v_courant + v_ramer*np.cos(beta))*t_r\n",
    "    \n",
    "    tr.data_source.data['x'] = np.linspace(0,t_r, 10)\n",
    "    tc.data_source.data['x'] = np.linspace(t_r, t, 10)\n",
    "    \n",
    "    v_r.data_source.data['x'] = v_ramer_x\n",
    "    v_r.data_source.data['y'] = v_ramer_y\n",
    "    a_v_r_up.data_source.data['x'] = v_ramer_x[-1] + np.linspace(0, -100*np.cos(beta + omega), 100)\n",
    "    a_v_r_up.data_source.data['y'] = v_ramer_y[-1] + np.linspace(0, -100*np.sin(beta + omega), 100)\n",
    "    a_v_r_down.data_source.data['x'] = v_ramer_x[-1] + np.linspace(0, -100*np.cos(beta - omega), 100)\n",
    "    a_v_r_down.data_source.data['y'] = v_ramer_y[-1] + np.linspace(0, -100*np.sin(beta - omega), 100)\n",
    "    \n",
    "    v_cou.data_source.data['x'] = v_courant_x\n",
    "    v_cou.data_source.data['y'] = v_courant_y\n",
    "    \n",
    "    a_v_cou_up.data_source.data['x'] = v_courant_x[-1] + np.linspace(0, +100*np.cos(np.pi + np.pi*20/180), 100)\n",
    "    a_v_cou_up.data_source.data['y'] = v_courant_y[-1] + np.linspace(0, +100*np.sin(np.pi + np.pi*20/180), 100)\n",
    "    a_v_cou_down.data_source.data['x'] = v_courant_x[-1] + np.linspace(0, +100*np.cos(np.pi - np.pi*20/180), 100)\n",
    "    a_v_cou_down.data_source.data['y'] = v_courant_y[-1] + np.linspace(0, +100*np.sin(np.pi - np.pi*20/180), 100)\n",
    "    \n",
    "    v_totale.data_source.data['x'] = np.linspace(0, v_courant_x[-1], 100)\n",
    "    v_totale.data_source.data['y'] = np.linspace(0, v_courant_y[-1], 100)\n",
    "    \n",
    "    a_v_totale_up.data_source.data['x'] =  v_courant_x[-1] - np.linspace(0, 100*np.cos(alpha + omega), 100)\n",
    "    a_v_totale_up.data_source.data['y'] = v_courant_y[-1] - np.linspace(0, 100*np.sin(alpha + omega), 100)\n",
    "    a_v_totale_down.data_source.data['x'] = v_courant_x[-1] - np.linspace(0, 100*np.cos(alpha - omega), 100)\n",
    "    a_v_totale_down.data_source.data['y'] = v_courant_y[-1] - np.linspace(0, 100*np.sin(alpha - omega), 100)\n",
    "\n",
    "    \n",
    "    B.data_source.data['x'] = [b]\n",
    "    \n",
    "    traj.data_source.data['x'] = np.linspace(0, b, 100)\n",
    "    \n",
    "    print('Temps de navigation: \\t{:0.1f}s'.format(t_r))\n",
    "    print('Temps de course à pieds: {:0.1f}s'.format(abs(t_c)))\n",
    "    print('Temps total: \\t\\t{:0.1f}s'.format(t))\n",
    "    \n",
    "    push_notebook()\n",
    "    \n",
    "    \n",
    "    \n",
    "f_plot = gridplot([[p], [p_temps]])\n",
    "show(f_plot, notebook_handle=True)\n",
    "interact(update,\\\n",
    "         beta=widgets.FloatSlider(min=90,max=179,step=1,value=113.2, description='$Beta$:'), \\\n",
    "        v_course=widgets.FloatSlider(min=0.5,max=5.0,step=0.05,value=3.0, description='$v_{course} [m/s]$:'),\\\n",
    "        v_ramer=widgets.FloatSlider(min=0.5,max=5,step=0.05,value=1.5, description='$v_{rame} [m/s]$:'),\\\n",
    "        v_courant=widgets.FloatSlider(min=0.1,max=3,step=0.05,value=0.8, description='$v_{c} [m/s]$:') ); \n",
    "         "
   ]
  },
  {
   "cell_type": "code",
   "execution_count": null,
   "metadata": {
    "hidden": true
   },
   "outputs": [],
   "source": []
  },
  {
   "cell_type": "code",
   "execution_count": null,
   "metadata": {
    "hidden": true
   },
   "outputs": [],
   "source": []
  }
 ],
 "metadata": {
  "hide_input": false,
  "kernelspec": {
   "display_name": "Python 3",
   "language": "python",
   "name": "python3"
  },
  "language_info": {
   "codemirror_mode": {
    "name": "ipython",
    "version": 3
   },
   "file_extension": ".py",
   "mimetype": "text/x-python",
   "name": "python",
   "nbconvert_exporter": "python",
   "pygments_lexer": "ipython3",
   "version": "3.7.4"
  }
 },
 "nbformat": 4,
 "nbformat_minor": 2
}
